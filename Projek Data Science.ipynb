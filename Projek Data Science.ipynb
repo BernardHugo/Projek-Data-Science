{
 "cells": [
  {
   "cell_type": "markdown",
   "id": "d74e4b83",
   "metadata": {},
   "source": [
    "Kelompok:\n",
    "\n",
    "- Raphael Alexander Lesmana\n",
    "- Reynaldi Joely\n",
    "- Bernard Hugo\n",
    "- Alexander Ryan Wijaya\n",
    "\n",
    "Sumber: https://www.kaggle.com/shivamb/5minute-crafts-video-views-dataset"
   ]
  },
  {
   "cell_type": "markdown",
   "id": "33df914c",
   "metadata": {},
   "source": [
    "Import library yang dibutuhkan:"
   ]
  },
  {
   "cell_type": "code",
   "execution_count": 1,
   "id": "719022cb",
   "metadata": {},
   "outputs": [],
   "source": [
    "import pandas as pd\n",
    "import seaborn as sns\n",
    "import numpy as np"
   ]
  },
  {
   "cell_type": "markdown",
   "id": "78709f47",
   "metadata": {},
   "source": [
    "Matikan notasi ilmiah ketika mencetak angka berkoma"
   ]
  },
  {
   "cell_type": "code",
   "execution_count": 2,
   "id": "11cf3b69",
   "metadata": {},
   "outputs": [],
   "source": [
    "pd.options.display.float_format = '{:.2f}'.format"
   ]
  },
  {
   "cell_type": "markdown",
   "id": "289570ad",
   "metadata": {},
   "source": [
    "Membaca file .csv yang berisi dataset:"
   ]
  },
  {
   "cell_type": "code",
   "execution_count": 3,
   "id": "b9fac6a4",
   "metadata": {},
   "outputs": [],
   "source": [
    "df = pd.read_csv(\"5-Minute Crafts.csv\")"
   ]
  },
  {
   "cell_type": "markdown",
   "id": "d6c92094",
   "metadata": {},
   "source": [
    "Preprocessing: hitung baris yang duplicate:"
   ]
  },
  {
   "cell_type": "code",
   "execution_count": 4,
   "id": "d26f34f0",
   "metadata": {},
   "outputs": [
    {
     "data": {
      "text/plain": [
       "(0, 15)"
      ]
     },
     "execution_count": 4,
     "metadata": {},
     "output_type": "execute_result"
    }
   ],
   "source": [
    "df[df.duplicated()].shape"
   ]
  },
  {
   "cell_type": "markdown",
   "id": "99aaeea8",
   "metadata": {},
   "source": [
    "Tidak ada baris yang memiliki duplicate, maka tidak ada baris yang perlu dihapus"
   ]
  },
  {
   "cell_type": "markdown",
   "id": "3de64762",
   "metadata": {},
   "source": [
    "Hitung baris dengan data kosong"
   ]
  },
  {
   "cell_type": "code",
   "execution_count": 5,
   "id": "a340eb3a",
   "metadata": {},
   "outputs": [
    {
     "data": {
      "text/plain": [
       "video_id               0\n",
       "title                  0\n",
       "active_since_days      0\n",
       "duration_seconds       0\n",
       "total_views            0\n",
       "num_chars              0\n",
       "num_words              0\n",
       "num_punctuation        0\n",
       "num_words_uppercase    0\n",
       "num_words_lowercase    0\n",
       "num_stopwords          0\n",
       "avg_word_len           0\n",
       "contain_digits         0\n",
       "startswith_digits      0\n",
       "title_sentiment        0\n",
       "dtype: int64"
      ]
     },
     "execution_count": 5,
     "metadata": {},
     "output_type": "execute_result"
    }
   ],
   "source": [
    "df.isnull().sum()"
   ]
  },
  {
   "cell_type": "markdown",
   "id": "067b692b",
   "metadata": {},
   "source": [
    "Tidak ada kolom yang memiliki data kosong"
   ]
  },
  {
   "cell_type": "markdown",
   "id": "d1283967",
   "metadata": {},
   "source": [
    "Kolom title_sentiment, active_since_days dan num_stopwrods tidak akan dipakai dalam data exploration, maka kolom tersebut bisa dihapus"
   ]
  },
  {
   "cell_type": "code",
   "execution_count": 6,
   "id": "e0536e16",
   "metadata": {},
   "outputs": [],
   "source": [
    "df = df.drop(columns=[\"title_sentiment\",\"num_stopwords\",\"active_since_days\"])"
   ]
  },
  {
   "cell_type": "markdown",
   "id": "b4a05e73",
   "metadata": {},
   "source": [
    "Ubah boolean (1/0) menjadi informasi yang lebih dapat dimengerti"
   ]
  },
  {
   "cell_type": "code",
   "execution_count": 7,
   "id": "a7ad35d2",
   "metadata": {},
   "outputs": [],
   "source": [
    "def convert1(x):\n",
    "    if x == 1:\n",
    "        return \"Contains digit(s)\"\n",
    "    else:\n",
    "        return \"Does not contain digits\"\n",
    "    \n",
    "df[\"contain_digits\"] = df[\"contain_digits\"].apply(convert1)"
   ]
  },
  {
   "cell_type": "code",
   "execution_count": 8,
   "id": "1b653e15",
   "metadata": {},
   "outputs": [],
   "source": [
    "def convert2(x):\n",
    "    if x == 1:\n",
    "        return \"Starts with a digit\"\n",
    "    else:\n",
    "        return \"Does not start with a digit\"\n",
    "    \n",
    "df[\"startswith_digits\"] = df[\"startswith_digits\"].apply(convert2)"
   ]
  },
  {
   "cell_type": "markdown",
   "id": "b13d5d34",
   "metadata": {},
   "source": [
    "Pisahkan data menjadi dua bagian; yang lebih kecil dari 25,000,000 views, dan yang lebih besar dari 25,000,000 views. Data dipisah karena jarak antara views makin besar ketika views makin besar juga"
   ]
  },
  {
   "cell_type": "code",
   "execution_count": 9,
   "id": "6734fda7",
   "metadata": {},
   "outputs": [],
   "source": [
    "df_lt_25mil = df[df[\"total_views\"] < 25000000]"
   ]
  },
  {
   "cell_type": "code",
   "execution_count": 10,
   "id": "bc77069e",
   "metadata": {},
   "outputs": [],
   "source": [
    "df_gt_25mil = df[df[\"total_views\"] > 25000000]"
   ]
  },
  {
   "cell_type": "markdown",
   "id": "fbd72454",
   "metadata": {},
   "source": [
    "Lihat isi masing-masing data frame:"
   ]
  },
  {
   "cell_type": "code",
   "execution_count": 11,
   "id": "95e0b1a3",
   "metadata": {},
   "outputs": [
    {
     "data": {
      "text/html": [
       "<div>\n",
       "<style scoped>\n",
       "    .dataframe tbody tr th:only-of-type {\n",
       "        vertical-align: middle;\n",
       "    }\n",
       "\n",
       "    .dataframe tbody tr th {\n",
       "        vertical-align: top;\n",
       "    }\n",
       "\n",
       "    .dataframe thead th {\n",
       "        text-align: right;\n",
       "    }\n",
       "</style>\n",
       "<table border=\"1\" class=\"dataframe\">\n",
       "  <thead>\n",
       "    <tr style=\"text-align: right;\">\n",
       "      <th></th>\n",
       "      <th>video_id</th>\n",
       "      <th>title</th>\n",
       "      <th>duration_seconds</th>\n",
       "      <th>total_views</th>\n",
       "      <th>num_chars</th>\n",
       "      <th>num_words</th>\n",
       "      <th>num_punctuation</th>\n",
       "      <th>num_words_uppercase</th>\n",
       "      <th>num_words_lowercase</th>\n",
       "      <th>avg_word_len</th>\n",
       "      <th>contain_digits</th>\n",
       "      <th>startswith_digits</th>\n",
       "    </tr>\n",
       "  </thead>\n",
       "  <tbody>\n",
       "    <tr>\n",
       "      <th>0</th>\n",
       "      <td>v=lCePSP4lb-k</td>\n",
       "      <td>Wow! Let's go live! Epic decorations and DIYS</td>\n",
       "      <td>558</td>\n",
       "      <td>10825</td>\n",
       "      <td>45</td>\n",
       "      <td>8</td>\n",
       "      <td>3</td>\n",
       "      <td>1</td>\n",
       "      <td>4</td>\n",
       "      <td>5.62</td>\n",
       "      <td>Does not contain digits</td>\n",
       "      <td>Does not start with a digit</td>\n",
       "    </tr>\n",
       "    <tr>\n",
       "      <th>1</th>\n",
       "      <td>v=G7O9iWWOtTY</td>\n",
       "      <td>EXTREME ROOM TRANSFORMATION || Cool Design Ide...</td>\n",
       "      <td>1020</td>\n",
       "      <td>184374</td>\n",
       "      <td>63</td>\n",
       "      <td>10</td>\n",
       "      <td>2</td>\n",
       "      <td>3</td>\n",
       "      <td>0</td>\n",
       "      <td>6.30</td>\n",
       "      <td>Does not contain digits</td>\n",
       "      <td>Does not start with a digit</td>\n",
       "    </tr>\n",
       "    <tr>\n",
       "      <th>2</th>\n",
       "      <td>v=cd0u5IFxBdo</td>\n",
       "      <td>LATE SUMMER HACKS TO SAVE YOUR DAY</td>\n",
       "      <td>629</td>\n",
       "      <td>478170</td>\n",
       "      <td>34</td>\n",
       "      <td>7</td>\n",
       "      <td>0</td>\n",
       "      <td>7</td>\n",
       "      <td>0</td>\n",
       "      <td>4.86</td>\n",
       "      <td>Does not contain digits</td>\n",
       "      <td>Does not start with a digit</td>\n",
       "    </tr>\n",
       "    <tr>\n",
       "      <th>3</th>\n",
       "      <td>v=lWSXHFPqBfo</td>\n",
       "      <td>EVERY SMART PARENT KNOWS THESE USEFUL HACKS #s...</td>\n",
       "      <td>41</td>\n",
       "      <td>197359</td>\n",
       "      <td>51</td>\n",
       "      <td>8</td>\n",
       "      <td>1</td>\n",
       "      <td>7</td>\n",
       "      <td>1</td>\n",
       "      <td>6.38</td>\n",
       "      <td>Does not contain digits</td>\n",
       "      <td>Does not start with a digit</td>\n",
       "    </tr>\n",
       "    <tr>\n",
       "      <th>4</th>\n",
       "      <td>v=qqPFeyd84Lg</td>\n",
       "      <td>SMART HACKS TO SAVE YOUR WEDDING DAY🤵‍👰‍💍🕊️</td>\n",
       "      <td>784</td>\n",
       "      <td>162025</td>\n",
       "      <td>43</td>\n",
       "      <td>7</td>\n",
       "      <td>0</td>\n",
       "      <td>7</td>\n",
       "      <td>0</td>\n",
       "      <td>6.14</td>\n",
       "      <td>Does not contain digits</td>\n",
       "      <td>Does not start with a digit</td>\n",
       "    </tr>\n",
       "    <tr>\n",
       "      <th>...</th>\n",
       "      <td>...</td>\n",
       "      <td>...</td>\n",
       "      <td>...</td>\n",
       "      <td>...</td>\n",
       "      <td>...</td>\n",
       "      <td>...</td>\n",
       "      <td>...</td>\n",
       "      <td>...</td>\n",
       "      <td>...</td>\n",
       "      <td>...</td>\n",
       "      <td>...</td>\n",
       "      <td>...</td>\n",
       "    </tr>\n",
       "    <tr>\n",
       "      <th>4899</th>\n",
       "      <td>v=RA9GjoRhcSE</td>\n",
       "      <td>Amazing life hack; how to recycle old crayons ...</td>\n",
       "      <td>55</td>\n",
       "      <td>76086</td>\n",
       "      <td>63</td>\n",
       "      <td>11</td>\n",
       "      <td>2</td>\n",
       "      <td>2</td>\n",
       "      <td>8</td>\n",
       "      <td>5.73</td>\n",
       "      <td>Contains digit(s)</td>\n",
       "      <td>Does not start with a digit</td>\n",
       "    </tr>\n",
       "    <tr>\n",
       "      <th>4900</th>\n",
       "      <td>v=KtetRv4kfog</td>\n",
       "      <td>How to DIY a magnetic memo holder l 5-MINUTE C...</td>\n",
       "      <td>52</td>\n",
       "      <td>68908</td>\n",
       "      <td>51</td>\n",
       "      <td>10</td>\n",
       "      <td>1</td>\n",
       "      <td>3</td>\n",
       "      <td>6</td>\n",
       "      <td>5.10</td>\n",
       "      <td>Contains digit(s)</td>\n",
       "      <td>Does not start with a digit</td>\n",
       "    </tr>\n",
       "    <tr>\n",
       "      <th>4901</th>\n",
       "      <td>v=AEp338eSyDM</td>\n",
       "      <td>How to turn your old T-shirt into a pillowcase...</td>\n",
       "      <td>62</td>\n",
       "      <td>118541</td>\n",
       "      <td>76</td>\n",
       "      <td>14</td>\n",
       "      <td>5</td>\n",
       "      <td>4</td>\n",
       "      <td>7</td>\n",
       "      <td>5.43</td>\n",
       "      <td>Contains digit(s)</td>\n",
       "      <td>Does not start with a digit</td>\n",
       "    </tr>\n",
       "    <tr>\n",
       "      <th>4902</th>\n",
       "      <td>v=JmFQavE0sPM</td>\n",
       "      <td>3 tricks to clean without harsh chemicals l 5-...</td>\n",
       "      <td>81</td>\n",
       "      <td>93121</td>\n",
       "      <td>59</td>\n",
       "      <td>10</td>\n",
       "      <td>1</td>\n",
       "      <td>2</td>\n",
       "      <td>7</td>\n",
       "      <td>5.90</td>\n",
       "      <td>Contains digit(s)</td>\n",
       "      <td>Starts with a digit</td>\n",
       "    </tr>\n",
       "    <tr>\n",
       "      <th>4903</th>\n",
       "      <td>v=s_99ugf_diM</td>\n",
       "      <td>5 essential DIY hacks that you need to know  l...</td>\n",
       "      <td>73</td>\n",
       "      <td>422671</td>\n",
       "      <td>62</td>\n",
       "      <td>12</td>\n",
       "      <td>1</td>\n",
       "      <td>3</td>\n",
       "      <td>8</td>\n",
       "      <td>5.17</td>\n",
       "      <td>Contains digit(s)</td>\n",
       "      <td>Starts with a digit</td>\n",
       "    </tr>\n",
       "  </tbody>\n",
       "</table>\n",
       "<p>4778 rows × 12 columns</p>\n",
       "</div>"
      ],
      "text/plain": [
       "           video_id                                              title  \\\n",
       "0     v=lCePSP4lb-k      Wow! Let's go live! Epic decorations and DIYS   \n",
       "1     v=G7O9iWWOtTY  EXTREME ROOM TRANSFORMATION || Cool Design Ide...   \n",
       "2     v=cd0u5IFxBdo                 LATE SUMMER HACKS TO SAVE YOUR DAY   \n",
       "3     v=lWSXHFPqBfo  EVERY SMART PARENT KNOWS THESE USEFUL HACKS #s...   \n",
       "4     v=qqPFeyd84Lg        SMART HACKS TO SAVE YOUR WEDDING DAY🤵‍👰‍💍🕊️   \n",
       "...             ...                                                ...   \n",
       "4899  v=RA9GjoRhcSE  Amazing life hack; how to recycle old crayons ...   \n",
       "4900  v=KtetRv4kfog  How to DIY a magnetic memo holder l 5-MINUTE C...   \n",
       "4901  v=AEp338eSyDM  How to turn your old T-shirt into a pillowcase...   \n",
       "4902  v=JmFQavE0sPM  3 tricks to clean without harsh chemicals l 5-...   \n",
       "4903  v=s_99ugf_diM  5 essential DIY hacks that you need to know  l...   \n",
       "\n",
       "      duration_seconds  total_views  num_chars  num_words  num_punctuation  \\\n",
       "0                  558        10825         45          8                3   \n",
       "1                 1020       184374         63         10                2   \n",
       "2                  629       478170         34          7                0   \n",
       "3                   41       197359         51          8                1   \n",
       "4                  784       162025         43          7                0   \n",
       "...                ...          ...        ...        ...              ...   \n",
       "4899                55        76086         63         11                2   \n",
       "4900                52        68908         51         10                1   \n",
       "4901                62       118541         76         14                5   \n",
       "4902                81        93121         59         10                1   \n",
       "4903                73       422671         62         12                1   \n",
       "\n",
       "      num_words_uppercase  num_words_lowercase  avg_word_len  \\\n",
       "0                       1                    4          5.62   \n",
       "1                       3                    0          6.30   \n",
       "2                       7                    0          4.86   \n",
       "3                       7                    1          6.38   \n",
       "4                       7                    0          6.14   \n",
       "...                   ...                  ...           ...   \n",
       "4899                    2                    8          5.73   \n",
       "4900                    3                    6          5.10   \n",
       "4901                    4                    7          5.43   \n",
       "4902                    2                    7          5.90   \n",
       "4903                    3                    8          5.17   \n",
       "\n",
       "               contain_digits            startswith_digits  \n",
       "0     Does not contain digits  Does not start with a digit  \n",
       "1     Does not contain digits  Does not start with a digit  \n",
       "2     Does not contain digits  Does not start with a digit  \n",
       "3     Does not contain digits  Does not start with a digit  \n",
       "4     Does not contain digits  Does not start with a digit  \n",
       "...                       ...                          ...  \n",
       "4899        Contains digit(s)  Does not start with a digit  \n",
       "4900        Contains digit(s)  Does not start with a digit  \n",
       "4901        Contains digit(s)  Does not start with a digit  \n",
       "4902        Contains digit(s)          Starts with a digit  \n",
       "4903        Contains digit(s)          Starts with a digit  \n",
       "\n",
       "[4778 rows x 12 columns]"
      ]
     },
     "execution_count": 11,
     "metadata": {},
     "output_type": "execute_result"
    }
   ],
   "source": [
    "df_lt_25mil"
   ]
  },
  {
   "cell_type": "code",
   "execution_count": 113,
   "id": "594861a7",
   "metadata": {},
   "outputs": [
    {
     "data": {
      "text/html": [
       "<div>\n",
       "<style scoped>\n",
       "    .dataframe tbody tr th:only-of-type {\n",
       "        vertical-align: middle;\n",
       "    }\n",
       "\n",
       "    .dataframe tbody tr th {\n",
       "        vertical-align: top;\n",
       "    }\n",
       "\n",
       "    .dataframe thead th {\n",
       "        text-align: right;\n",
       "    }\n",
       "</style>\n",
       "<table border=\"1\" class=\"dataframe\">\n",
       "  <thead>\n",
       "    <tr style=\"text-align: right;\">\n",
       "      <th></th>\n",
       "      <th>video_id</th>\n",
       "      <th>title</th>\n",
       "      <th>active_since_days</th>\n",
       "      <th>duration_seconds</th>\n",
       "      <th>total_views</th>\n",
       "      <th>num_chars</th>\n",
       "      <th>num_words</th>\n",
       "      <th>num_punctuation</th>\n",
       "      <th>num_words_uppercase</th>\n",
       "      <th>num_words_lowercase</th>\n",
       "      <th>num_stopwords</th>\n",
       "      <th>avg_word_len</th>\n",
       "      <th>contain_digits</th>\n",
       "      <th>startswith_digits</th>\n",
       "      <th>title_sentiment</th>\n",
       "    </tr>\n",
       "  </thead>\n",
       "  <tbody>\n",
       "    <tr>\n",
       "      <th>67</th>\n",
       "      <td>v=3exz6AKhtPs</td>\n",
       "      <td>GREATEST SUMMER HACKS FROM 5-MINUTE CRAFTS #sh...</td>\n",
       "      <td>30</td>\n",
       "      <td>60</td>\n",
       "      <td>39193365</td>\n",
       "      <td>50</td>\n",
       "      <td>7</td>\n",
       "      <td>2</td>\n",
       "      <td>6</td>\n",
       "      <td>1</td>\n",
       "      <td>1</td>\n",
       "      <td>7.14</td>\n",
       "      <td>Contains digit(s)</td>\n",
       "      <td>0</td>\n",
       "      <td>1.00</td>\n",
       "    </tr>\n",
       "    <tr>\n",
       "      <th>78</th>\n",
       "      <td>v=80d4id92EV8</td>\n",
       "      <td>CRAZY HALLOWEEN MAKEUP IDEAS #shorts</td>\n",
       "      <td>30</td>\n",
       "      <td>57</td>\n",
       "      <td>44305373</td>\n",
       "      <td>36</td>\n",
       "      <td>5</td>\n",
       "      <td>1</td>\n",
       "      <td>4</td>\n",
       "      <td>1</td>\n",
       "      <td>0</td>\n",
       "      <td>7.20</td>\n",
       "      <td>Does not contain digits</td>\n",
       "      <td>0</td>\n",
       "      <td>-0.60</td>\n",
       "    </tr>\n",
       "    <tr>\n",
       "      <th>93</th>\n",
       "      <td>v=v9y3M5X2ua4</td>\n",
       "      <td>BEST SUMMER HACKS FOR SMART PARENTS #shorts</td>\n",
       "      <td>30</td>\n",
       "      <td>59</td>\n",
       "      <td>142635858</td>\n",
       "      <td>43</td>\n",
       "      <td>7</td>\n",
       "      <td>1</td>\n",
       "      <td>6</td>\n",
       "      <td>1</td>\n",
       "      <td>1</td>\n",
       "      <td>6.14</td>\n",
       "      <td>Does not contain digits</td>\n",
       "      <td>0</td>\n",
       "      <td>0.61</td>\n",
       "    </tr>\n",
       "    <tr>\n",
       "      <th>212</th>\n",
       "      <td>v=mMWoAV5IS18</td>\n",
       "      <td>Tik Tok STUNNING photo ideas #shorts</td>\n",
       "      <td>150</td>\n",
       "      <td>55</td>\n",
       "      <td>28673222</td>\n",
       "      <td>36</td>\n",
       "      <td>6</td>\n",
       "      <td>1</td>\n",
       "      <td>1</td>\n",
       "      <td>3</td>\n",
       "      <td>0</td>\n",
       "      <td>6.00</td>\n",
       "      <td>Does not contain digits</td>\n",
       "      <td>0</td>\n",
       "      <td>0.50</td>\n",
       "    </tr>\n",
       "    <tr>\n",
       "      <th>234</th>\n",
       "      <td>v=CjcVH96TnAs</td>\n",
       "      <td>Looks Awesome! Easy PHOTO HACKS Anyone Can Do ...</td>\n",
       "      <td>180</td>\n",
       "      <td>60</td>\n",
       "      <td>76836215</td>\n",
       "      <td>53</td>\n",
       "      <td>9</td>\n",
       "      <td>2</td>\n",
       "      <td>2</td>\n",
       "      <td>1</td>\n",
       "      <td>2</td>\n",
       "      <td>5.89</td>\n",
       "      <td>Does not contain digits</td>\n",
       "      <td>0</td>\n",
       "      <td>0.72</td>\n",
       "    </tr>\n",
       "    <tr>\n",
       "      <th>...</th>\n",
       "      <td>...</td>\n",
       "      <td>...</td>\n",
       "      <td>...</td>\n",
       "      <td>...</td>\n",
       "      <td>...</td>\n",
       "      <td>...</td>\n",
       "      <td>...</td>\n",
       "      <td>...</td>\n",
       "      <td>...</td>\n",
       "      <td>...</td>\n",
       "      <td>...</td>\n",
       "      <td>...</td>\n",
       "      <td>...</td>\n",
       "      <td>...</td>\n",
       "      <td>...</td>\n",
       "    </tr>\n",
       "    <tr>\n",
       "      <th>4681</th>\n",
       "      <td>v=dU5pcivkqqc</td>\n",
       "      <td>29 THINGS WE DO WRONG EVERY DAY</td>\n",
       "      <td>1460</td>\n",
       "      <td>485</td>\n",
       "      <td>62152743</td>\n",
       "      <td>31</td>\n",
       "      <td>7</td>\n",
       "      <td>0</td>\n",
       "      <td>6</td>\n",
       "      <td>0</td>\n",
       "      <td>2</td>\n",
       "      <td>4.43</td>\n",
       "      <td>Contains digit(s)</td>\n",
       "      <td>1</td>\n",
       "      <td>-0.50</td>\n",
       "    </tr>\n",
       "    <tr>\n",
       "      <th>4687</th>\n",
       "      <td>v=VoLZXXQL-YY</td>\n",
       "      <td>9 Incredible Science Facts You Probably Didn't...</td>\n",
       "      <td>1460</td>\n",
       "      <td>625</td>\n",
       "      <td>27329157</td>\n",
       "      <td>62</td>\n",
       "      <td>10</td>\n",
       "      <td>1</td>\n",
       "      <td>0</td>\n",
       "      <td>0</td>\n",
       "      <td>3</td>\n",
       "      <td>6.20</td>\n",
       "      <td>Contains digit(s)</td>\n",
       "      <td>1</td>\n",
       "      <td>0.90</td>\n",
       "    </tr>\n",
       "    <tr>\n",
       "      <th>4706</th>\n",
       "      <td>v=m4tJV078Qbw</td>\n",
       "      <td>19 COOLEST DIYs YOU CAN MAKE YOURSELF</td>\n",
       "      <td>1460</td>\n",
       "      <td>741</td>\n",
       "      <td>30031749</td>\n",
       "      <td>37</td>\n",
       "      <td>7</td>\n",
       "      <td>0</td>\n",
       "      <td>5</td>\n",
       "      <td>0</td>\n",
       "      <td>3</td>\n",
       "      <td>5.29</td>\n",
       "      <td>Contains digit(s)</td>\n",
       "      <td>1</td>\n",
       "      <td>0.00</td>\n",
       "    </tr>\n",
       "    <tr>\n",
       "      <th>4722</th>\n",
       "      <td>v=LP_1VAcXoBM</td>\n",
       "      <td>19 FOOD HACKS THAT WILL BLOW YOUR MIND</td>\n",
       "      <td>1460</td>\n",
       "      <td>500</td>\n",
       "      <td>35947251</td>\n",
       "      <td>38</td>\n",
       "      <td>8</td>\n",
       "      <td>0</td>\n",
       "      <td>7</td>\n",
       "      <td>0</td>\n",
       "      <td>3</td>\n",
       "      <td>4.75</td>\n",
       "      <td>Contains digit(s)</td>\n",
       "      <td>1</td>\n",
       "      <td>0.00</td>\n",
       "    </tr>\n",
       "    <tr>\n",
       "      <th>4802</th>\n",
       "      <td>v=YAjzcignrLU</td>\n",
       "      <td>5-Minute Crafts compilation: This video is a t...</td>\n",
       "      <td>1460</td>\n",
       "      <td>2340</td>\n",
       "      <td>76784201</td>\n",
       "      <td>60</td>\n",
       "      <td>9</td>\n",
       "      <td>3</td>\n",
       "      <td>0</td>\n",
       "      <td>6</td>\n",
       "      <td>3</td>\n",
       "      <td>6.67</td>\n",
       "      <td>Contains digit(s)</td>\n",
       "      <td>1</td>\n",
       "      <td>0.00</td>\n",
       "    </tr>\n",
       "  </tbody>\n",
       "</table>\n",
       "<p>126 rows × 15 columns</p>\n",
       "</div>"
      ],
      "text/plain": [
       "           video_id                                              title  \\\n",
       "67    v=3exz6AKhtPs  GREATEST SUMMER HACKS FROM 5-MINUTE CRAFTS #sh...   \n",
       "78    v=80d4id92EV8               CRAZY HALLOWEEN MAKEUP IDEAS #shorts   \n",
       "93    v=v9y3M5X2ua4        BEST SUMMER HACKS FOR SMART PARENTS #shorts   \n",
       "212   v=mMWoAV5IS18               Tik Tok STUNNING photo ideas #shorts   \n",
       "234   v=CjcVH96TnAs  Looks Awesome! Easy PHOTO HACKS Anyone Can Do ...   \n",
       "...             ...                                                ...   \n",
       "4681  v=dU5pcivkqqc                    29 THINGS WE DO WRONG EVERY DAY   \n",
       "4687  v=VoLZXXQL-YY  9 Incredible Science Facts You Probably Didn't...   \n",
       "4706  v=m4tJV078Qbw              19 COOLEST DIYs YOU CAN MAKE YOURSELF   \n",
       "4722  v=LP_1VAcXoBM             19 FOOD HACKS THAT WILL BLOW YOUR MIND   \n",
       "4802  v=YAjzcignrLU  5-Minute Crafts compilation: This video is a t...   \n",
       "\n",
       "      active_since_days  duration_seconds  total_views  num_chars  num_words  \\\n",
       "67                   30                60     39193365         50          7   \n",
       "78                   30                57     44305373         36          5   \n",
       "93                   30                59    142635858         43          7   \n",
       "212                 150                55     28673222         36          6   \n",
       "234                 180                60     76836215         53          9   \n",
       "...                 ...               ...          ...        ...        ...   \n",
       "4681               1460               485     62152743         31          7   \n",
       "4687               1460               625     27329157         62         10   \n",
       "4706               1460               741     30031749         37          7   \n",
       "4722               1460               500     35947251         38          8   \n",
       "4802               1460              2340     76784201         60          9   \n",
       "\n",
       "      num_punctuation  num_words_uppercase  num_words_lowercase  \\\n",
       "67                  2                    6                    1   \n",
       "78                  1                    4                    1   \n",
       "93                  1                    6                    1   \n",
       "212                 1                    1                    3   \n",
       "234                 2                    2                    1   \n",
       "...               ...                  ...                  ...   \n",
       "4681                0                    6                    0   \n",
       "4687                1                    0                    0   \n",
       "4706                0                    5                    0   \n",
       "4722                0                    7                    0   \n",
       "4802                3                    0                    6   \n",
       "\n",
       "      num_stopwords  avg_word_len           contain_digits  startswith_digits  \\\n",
       "67                1          7.14        Contains digit(s)                  0   \n",
       "78                0          7.20  Does not contain digits                  0   \n",
       "93                1          6.14  Does not contain digits                  0   \n",
       "212               0          6.00  Does not contain digits                  0   \n",
       "234               2          5.89  Does not contain digits                  0   \n",
       "...             ...           ...                      ...                ...   \n",
       "4681              2          4.43        Contains digit(s)                  1   \n",
       "4687              3          6.20        Contains digit(s)                  1   \n",
       "4706              3          5.29        Contains digit(s)                  1   \n",
       "4722              3          4.75        Contains digit(s)                  1   \n",
       "4802              3          6.67        Contains digit(s)                  1   \n",
       "\n",
       "      title_sentiment  \n",
       "67               1.00  \n",
       "78              -0.60  \n",
       "93               0.61  \n",
       "212              0.50  \n",
       "234              0.72  \n",
       "...               ...  \n",
       "4681            -0.50  \n",
       "4687             0.90  \n",
       "4706             0.00  \n",
       "4722             0.00  \n",
       "4802             0.00  \n",
       "\n",
       "[126 rows x 15 columns]"
      ]
     },
     "execution_count": 113,
     "metadata": {},
     "output_type": "execute_result"
    }
   ],
   "source": [
    "df_gt_25mil"
   ]
  },
  {
   "cell_type": "markdown",
   "id": "8e225126",
   "metadata": {},
   "source": [
    "Reset index"
   ]
  },
  {
   "cell_type": "code",
   "execution_count": 12,
   "id": "4b6dec4d",
   "metadata": {},
   "outputs": [],
   "source": [
    "df_lt_25mil = df_lt_25mil.reset_index()"
   ]
  },
  {
   "cell_type": "code",
   "execution_count": 13,
   "id": "de79fe17",
   "metadata": {},
   "outputs": [],
   "source": [
    "df_gt_25mil = df_gt_25mil.reset_index()"
   ]
  },
  {
   "cell_type": "markdown",
   "id": "c7a1fa6b",
   "metadata": {},
   "source": [
    "Summary statistics:"
   ]
  },
  {
   "cell_type": "code",
   "execution_count": 14,
   "id": "acd71d55",
   "metadata": {},
   "outputs": [
    {
     "data": {
      "text/html": [
       "<div>\n",
       "<style scoped>\n",
       "    .dataframe tbody tr th:only-of-type {\n",
       "        vertical-align: middle;\n",
       "    }\n",
       "\n",
       "    .dataframe tbody tr th {\n",
       "        vertical-align: top;\n",
       "    }\n",
       "\n",
       "    .dataframe thead th {\n",
       "        text-align: right;\n",
       "    }\n",
       "</style>\n",
       "<table border=\"1\" class=\"dataframe\">\n",
       "  <thead>\n",
       "    <tr style=\"text-align: right;\">\n",
       "      <th></th>\n",
       "      <th>duration_seconds</th>\n",
       "      <th>total_views</th>\n",
       "      <th>num_chars</th>\n",
       "      <th>num_words</th>\n",
       "    </tr>\n",
       "  </thead>\n",
       "  <tbody>\n",
       "    <tr>\n",
       "      <th>count</th>\n",
       "      <td>4778.00</td>\n",
       "      <td>4778.00</td>\n",
       "      <td>4778.00</td>\n",
       "      <td>4778.00</td>\n",
       "    </tr>\n",
       "    <tr>\n",
       "      <th>mean</th>\n",
       "      <td>925.29</td>\n",
       "      <td>3201092.35</td>\n",
       "      <td>44.42</td>\n",
       "      <td>8.21</td>\n",
       "    </tr>\n",
       "    <tr>\n",
       "      <th>std</th>\n",
       "      <td>697.50</td>\n",
       "      <td>4368659.57</td>\n",
       "      <td>13.50</td>\n",
       "      <td>2.52</td>\n",
       "    </tr>\n",
       "    <tr>\n",
       "      <th>min</th>\n",
       "      <td>27.00</td>\n",
       "      <td>4034.00</td>\n",
       "      <td>11.00</td>\n",
       "      <td>3.00</td>\n",
       "    </tr>\n",
       "    <tr>\n",
       "      <th>25%</th>\n",
       "      <td>696.00</td>\n",
       "      <td>554766.00</td>\n",
       "      <td>35.00</td>\n",
       "      <td>6.00</td>\n",
       "    </tr>\n",
       "    <tr>\n",
       "      <th>50%</th>\n",
       "      <td>865.00</td>\n",
       "      <td>1391093.50</td>\n",
       "      <td>43.00</td>\n",
       "      <td>8.00</td>\n",
       "    </tr>\n",
       "    <tr>\n",
       "      <th>75%</th>\n",
       "      <td>960.00</td>\n",
       "      <td>3932647.75</td>\n",
       "      <td>52.00</td>\n",
       "      <td>10.00</td>\n",
       "    </tr>\n",
       "    <tr>\n",
       "      <th>max</th>\n",
       "      <td>14880.00</td>\n",
       "      <td>24751669.00</td>\n",
       "      <td>100.00</td>\n",
       "      <td>20.00</td>\n",
       "    </tr>\n",
       "  </tbody>\n",
       "</table>\n",
       "</div>"
      ],
      "text/plain": [
       "       duration_seconds  total_views  num_chars  num_words\n",
       "count           4778.00      4778.00    4778.00    4778.00\n",
       "mean             925.29   3201092.35      44.42       8.21\n",
       "std              697.50   4368659.57      13.50       2.52\n",
       "min               27.00      4034.00      11.00       3.00\n",
       "25%              696.00    554766.00      35.00       6.00\n",
       "50%              865.00   1391093.50      43.00       8.00\n",
       "75%              960.00   3932647.75      52.00      10.00\n",
       "max            14880.00  24751669.00     100.00      20.00"
      ]
     },
     "execution_count": 14,
     "metadata": {},
     "output_type": "execute_result"
    }
   ],
   "source": [
    "df_lt_25mil[[\"duration_seconds\", \"total_views\", \"num_chars\", \"num_words\"]].describe()"
   ]
  },
  {
   "cell_type": "code",
   "execution_count": 15,
   "id": "1939b61a",
   "metadata": {},
   "outputs": [
    {
     "data": {
      "text/html": [
       "<div>\n",
       "<style scoped>\n",
       "    .dataframe tbody tr th:only-of-type {\n",
       "        vertical-align: middle;\n",
       "    }\n",
       "\n",
       "    .dataframe tbody tr th {\n",
       "        vertical-align: top;\n",
       "    }\n",
       "\n",
       "    .dataframe thead th {\n",
       "        text-align: right;\n",
       "    }\n",
       "</style>\n",
       "<table border=\"1\" class=\"dataframe\">\n",
       "  <thead>\n",
       "    <tr style=\"text-align: right;\">\n",
       "      <th></th>\n",
       "      <th>duration_seconds</th>\n",
       "      <th>total_views</th>\n",
       "      <th>num_chars</th>\n",
       "      <th>num_words</th>\n",
       "    </tr>\n",
       "  </thead>\n",
       "  <tbody>\n",
       "    <tr>\n",
       "      <th>count</th>\n",
       "      <td>126.00</td>\n",
       "      <td>126.00</td>\n",
       "      <td>126.00</td>\n",
       "      <td>126.00</td>\n",
       "    </tr>\n",
       "    <tr>\n",
       "      <th>mean</th>\n",
       "      <td>1110.74</td>\n",
       "      <td>47180098.79</td>\n",
       "      <td>42.16</td>\n",
       "      <td>7.83</td>\n",
       "    </tr>\n",
       "    <tr>\n",
       "      <th>std</th>\n",
       "      <td>1312.66</td>\n",
       "      <td>32658406.92</td>\n",
       "      <td>11.72</td>\n",
       "      <td>2.27</td>\n",
       "    </tr>\n",
       "    <tr>\n",
       "      <th>min</th>\n",
       "      <td>51.00</td>\n",
       "      <td>25037978.00</td>\n",
       "      <td>19.00</td>\n",
       "      <td>4.00</td>\n",
       "    </tr>\n",
       "    <tr>\n",
       "      <th>25%</th>\n",
       "      <td>748.25</td>\n",
       "      <td>29572950.75</td>\n",
       "      <td>34.00</td>\n",
       "      <td>6.00</td>\n",
       "    </tr>\n",
       "    <tr>\n",
       "      <th>50%</th>\n",
       "      <td>900.00</td>\n",
       "      <td>39016602.50</td>\n",
       "      <td>41.50</td>\n",
       "      <td>8.00</td>\n",
       "    </tr>\n",
       "    <tr>\n",
       "      <th>75%</th>\n",
       "      <td>1140.00</td>\n",
       "      <td>49955063.25</td>\n",
       "      <td>48.75</td>\n",
       "      <td>9.00</td>\n",
       "    </tr>\n",
       "    <tr>\n",
       "      <th>max</th>\n",
       "      <td>10740.00</td>\n",
       "      <td>283031109.00</td>\n",
       "      <td>86.00</td>\n",
       "      <td>16.00</td>\n",
       "    </tr>\n",
       "  </tbody>\n",
       "</table>\n",
       "</div>"
      ],
      "text/plain": [
       "       duration_seconds  total_views  num_chars  num_words\n",
       "count            126.00       126.00     126.00     126.00\n",
       "mean            1110.74  47180098.79      42.16       7.83\n",
       "std             1312.66  32658406.92      11.72       2.27\n",
       "min               51.00  25037978.00      19.00       4.00\n",
       "25%              748.25  29572950.75      34.00       6.00\n",
       "50%              900.00  39016602.50      41.50       8.00\n",
       "75%             1140.00  49955063.25      48.75       9.00\n",
       "max            10740.00 283031109.00      86.00      16.00"
      ]
     },
     "execution_count": 15,
     "metadata": {},
     "output_type": "execute_result"
    }
   ],
   "source": [
    "df_gt_25mil[[\"duration_seconds\", \"total_views\", \"num_chars\", \"num_words\"]].describe()"
   ]
  },
  {
   "cell_type": "code",
   "execution_count": 16,
   "id": "8a43eece",
   "metadata": {},
   "outputs": [
    {
     "data": {
      "text/html": [
       "<div>\n",
       "<style scoped>\n",
       "    .dataframe tbody tr th:only-of-type {\n",
       "        vertical-align: middle;\n",
       "    }\n",
       "\n",
       "    .dataframe tbody tr th {\n",
       "        vertical-align: top;\n",
       "    }\n",
       "\n",
       "    .dataframe thead th {\n",
       "        text-align: right;\n",
       "    }\n",
       "</style>\n",
       "<table border=\"1\" class=\"dataframe\">\n",
       "  <thead>\n",
       "    <tr style=\"text-align: right;\">\n",
       "      <th></th>\n",
       "      <th>duration_seconds</th>\n",
       "      <th>total_views</th>\n",
       "      <th>num_chars</th>\n",
       "      <th>num_words</th>\n",
       "    </tr>\n",
       "  </thead>\n",
       "  <tbody>\n",
       "    <tr>\n",
       "      <th>count</th>\n",
       "      <td>4904.00</td>\n",
       "      <td>4904.00</td>\n",
       "      <td>4904.00</td>\n",
       "      <td>4904.00</td>\n",
       "    </tr>\n",
       "    <tr>\n",
       "      <th>mean</th>\n",
       "      <td>930.06</td>\n",
       "      <td>4331058.66</td>\n",
       "      <td>44.36</td>\n",
       "      <td>8.20</td>\n",
       "    </tr>\n",
       "    <tr>\n",
       "      <th>std</th>\n",
       "      <td>720.27</td>\n",
       "      <td>9706409.31</td>\n",
       "      <td>13.46</td>\n",
       "      <td>2.51</td>\n",
       "    </tr>\n",
       "    <tr>\n",
       "      <th>min</th>\n",
       "      <td>27.00</td>\n",
       "      <td>4034.00</td>\n",
       "      <td>11.00</td>\n",
       "      <td>3.00</td>\n",
       "    </tr>\n",
       "    <tr>\n",
       "      <th>25%</th>\n",
       "      <td>697.00</td>\n",
       "      <td>567791.00</td>\n",
       "      <td>35.00</td>\n",
       "      <td>6.00</td>\n",
       "    </tr>\n",
       "    <tr>\n",
       "      <th>50%</th>\n",
       "      <td>866.00</td>\n",
       "      <td>1459397.00</td>\n",
       "      <td>43.00</td>\n",
       "      <td>8.00</td>\n",
       "    </tr>\n",
       "    <tr>\n",
       "      <th>75%</th>\n",
       "      <td>960.00</td>\n",
       "      <td>4298147.50</td>\n",
       "      <td>51.00</td>\n",
       "      <td>10.00</td>\n",
       "    </tr>\n",
       "    <tr>\n",
       "      <th>max</th>\n",
       "      <td>14880.00</td>\n",
       "      <td>283031109.00</td>\n",
       "      <td>100.00</td>\n",
       "      <td>20.00</td>\n",
       "    </tr>\n",
       "  </tbody>\n",
       "</table>\n",
       "</div>"
      ],
      "text/plain": [
       "       duration_seconds  total_views  num_chars  num_words\n",
       "count           4904.00      4904.00    4904.00    4904.00\n",
       "mean             930.06   4331058.66      44.36       8.20\n",
       "std              720.27   9706409.31      13.46       2.51\n",
       "min               27.00      4034.00      11.00       3.00\n",
       "25%              697.00    567791.00      35.00       6.00\n",
       "50%              866.00   1459397.00      43.00       8.00\n",
       "75%              960.00   4298147.50      51.00      10.00\n",
       "max            14880.00 283031109.00     100.00      20.00"
      ]
     },
     "execution_count": 16,
     "metadata": {},
     "output_type": "execute_result"
    }
   ],
   "source": [
    "df[[\"duration_seconds\", \"total_views\", \"num_chars\", \"num_words\"]].describe()"
   ]
  },
  {
   "cell_type": "code",
   "execution_count": 17,
   "id": "c30af2fb",
   "metadata": {},
   "outputs": [
    {
     "name": "stdout",
     "output_type": "stream",
     "text": [
      "Modus (< 25 juta views)\n",
      "   num_chars  num_words  num_punctuation  num_words_uppercase  \\\n",
      "0         40          8                0                    7   \n",
      "\n",
      "   num_words_lowercase  \n",
      "0                    0  \n"
     ]
    }
   ],
   "source": [
    "print(\"Modus (< 25 juta views)\")\n",
    "print(df_lt_25mil[[\"num_chars\", \"num_words\", \"num_punctuation\", \"num_words_uppercase\", \"num_words_lowercase\"]].mode())"
   ]
  },
  {
   "cell_type": "code",
   "execution_count": 18,
   "id": "1ea03945",
   "metadata": {},
   "outputs": [
    {
     "name": "stdout",
     "output_type": "stream",
     "text": [
      "Modus (> 25 juta views)\n",
      "   num_chars  num_words  num_punctuation  num_words_uppercase  \\\n",
      "0         30       8.00             0.00                 7.00   \n",
      "1         37        NaN              NaN                  NaN   \n",
      "2         42        NaN              NaN                  NaN   \n",
      "3         44        NaN              NaN                  NaN   \n",
      "4         46        NaN              NaN                  NaN   \n",
      "\n",
      "   num_words_lowercase  \n",
      "0                 0.00  \n",
      "1                  NaN  \n",
      "2                  NaN  \n",
      "3                  NaN  \n",
      "4                  NaN  \n"
     ]
    }
   ],
   "source": [
    "print(\"Modus (> 25 juta views)\")\n",
    "print(df_gt_25mil[[\"num_chars\", \"num_words\", \"num_punctuation\", \"num_words_uppercase\", \"num_words_lowercase\"]].mode())"
   ]
  },
  {
   "cell_type": "markdown",
   "id": "050fc7fc",
   "metadata": {},
   "source": [
    "Cari video dengan jumlah penonton terbanyak"
   ]
  },
  {
   "cell_type": "code",
   "execution_count": 19,
   "id": "74079691",
   "metadata": {
    "scrolled": true
   },
   "outputs": [
    {
     "data": {
      "text/plain": [
       "video_id                                                  v=_9YMpuLDnwo\n",
       "title                  42 HOLY GRAIL HACKS THAT WILL SAVE YOU A FORTUNE\n",
       "duration_seconds                                                   1080\n",
       "total_views                                                   283031109\n",
       "num_chars                                                            48\n",
       "num_words                                                            10\n",
       "num_punctuation                                                       0\n",
       "num_words_uppercase                                                   9\n",
       "num_words_lowercase                                                   0\n",
       "avg_word_len                                                       4.80\n",
       "contain_digits                                        Contains digit(s)\n",
       "startswith_digits                                   Starts with a digit\n",
       "Name: 3850, dtype: object"
      ]
     },
     "execution_count": 19,
     "metadata": {},
     "output_type": "execute_result"
    }
   ],
   "source": [
    "df.loc[df[\"total_views\"].idxmax()]"
   ]
  },
  {
   "cell_type": "markdown",
   "id": "1301a87a",
   "metadata": {},
   "source": [
    "Cari video dengan jumlah penonton paling kecil"
   ]
  },
  {
   "cell_type": "code",
   "execution_count": 7,
   "id": "890cb60a",
   "metadata": {},
   "outputs": [
    {
     "data": {
      "text/plain": [
       "video_id                                                   v=BlBYzja1ZbU\n",
       "title                  5 clothespin hacks that will make your life SO...\n",
       "duration_seconds                                                      58\n",
       "total_views                                                         4034\n",
       "num_chars                                                             77\n",
       "num_words                                                             14\n",
       "num_punctuation                                                        2\n",
       "num_words_uppercase                                                    3\n",
       "num_words_lowercase                                                   10\n",
       "avg_word_len                                                        5.50\n",
       "contain_digits                                                         1\n",
       "startswith_digits                                                      1\n",
       "Name: 4783, dtype: object"
      ]
     },
     "execution_count": 7,
     "metadata": {},
     "output_type": "execute_result"
    }
   ],
   "source": [
    "df.loc[df[\"total_views\"].idxmin()]"
   ]
  },
  {
   "cell_type": "markdown",
   "id": "2ecd852f",
   "metadata": {},
   "source": [
    "Cari video yang paling panjang durasinya"
   ]
  },
  {
   "cell_type": "code",
   "execution_count": 20,
   "id": "98c78886",
   "metadata": {
    "scrolled": true
   },
   "outputs": [
    {
     "data": {
      "text/plain": [
       "video_id                                                   v=Kd3fBrj2cRA\n",
       "title                  REAL LIVE || Shooting Stunning Science Experim...\n",
       "duration_seconds                                                   14880\n",
       "total_views                                                       424342\n",
       "num_chars                                                             50\n",
       "num_words                                                              7\n",
       "num_punctuation                                                        2\n",
       "num_words_uppercase                                                    2\n",
       "num_words_lowercase                                                    0\n",
       "avg_word_len                                                        7.14\n",
       "contain_digits                                   Does not contain digits\n",
       "startswith_digits                            Does not start with a digit\n",
       "Name: 205, dtype: object"
      ]
     },
     "execution_count": 20,
     "metadata": {},
     "output_type": "execute_result"
    }
   ],
   "source": [
    "df.loc[df[\"duration_seconds\"].idxmax()]"
   ]
  },
  {
   "cell_type": "markdown",
   "id": "646f56cf",
   "metadata": {},
   "source": [
    "Cari video dengan durasi terpendek"
   ]
  },
  {
   "cell_type": "code",
   "execution_count": 8,
   "id": "073ae256",
   "metadata": {},
   "outputs": [
    {
     "data": {
      "text/plain": [
       "video_id                                                   v=RsQaojbgeY0\n",
       "title                  Simple mathematics trick to fool everyone l 5-...\n",
       "duration_seconds                                                      27\n",
       "total_views                                                        21067\n",
       "num_chars                                                             59\n",
       "num_words                                                              9\n",
       "num_punctuation                                                        1\n",
       "num_words_uppercase                                                    2\n",
       "num_words_lowercase                                                    6\n",
       "avg_word_len                                                        6.56\n",
       "contain_digits                                                         1\n",
       "startswith_digits                                                      0\n",
       "Name: 4847, dtype: object"
      ]
     },
     "execution_count": 8,
     "metadata": {},
     "output_type": "execute_result"
    }
   ],
   "source": [
    "df.loc[df[\"duration_seconds\"].idxmin()]"
   ]
  },
  {
   "cell_type": "markdown",
   "id": "d9ff9e6f",
   "metadata": {},
   "source": [
    "Cari video dengan judul paling panjang"
   ]
  },
  {
   "cell_type": "code",
   "execution_count": 21,
   "id": "3ed83189",
   "metadata": {
    "scrolled": true
   },
   "outputs": [
    {
     "data": {
      "text/plain": [
       "video_id                                                   v=FwdmGwyvpRA\n",
       "title                  100+ SMART PARENTING HACKS AND CRAFTS || DIY I...\n",
       "duration_seconds                                                    7080\n",
       "total_views                                                      2124054\n",
       "num_chars                                                            100\n",
       "num_words                                                             18\n",
       "num_punctuation                                                        3\n",
       "num_words_uppercase                                                    6\n",
       "num_words_lowercase                                                    1\n",
       "avg_word_len                                                        5.56\n",
       "contain_digits                                         Contains digit(s)\n",
       "startswith_digits                                    Starts with a digit\n",
       "Name: 247, dtype: object"
      ]
     },
     "execution_count": 21,
     "metadata": {},
     "output_type": "execute_result"
    }
   ],
   "source": [
    "df.loc[df[\"num_chars\"].idxmax()]"
   ]
  },
  {
   "cell_type": "code",
   "execution_count": 86,
   "id": "9e9b4e1f",
   "metadata": {
    "scrolled": true
   },
   "outputs": [
    {
     "data": {
      "text/plain": [
       "'100+ SMART PARENTING HACKS AND CRAFTS || DIY Ideas And Easy Activities Every Mom and Dad Should Know'"
      ]
     },
     "execution_count": 86,
     "metadata": {},
     "output_type": "execute_result"
    }
   ],
   "source": [
    "df.loc[df[\"num_chars\"].idxmax()][\"title\"]"
   ]
  },
  {
   "cell_type": "markdown",
   "id": "eaaa2332",
   "metadata": {},
   "source": [
    "Cari video dengan judul terpendek"
   ]
  },
  {
   "cell_type": "code",
   "execution_count": 10,
   "id": "fcba98fd",
   "metadata": {},
   "outputs": [
    {
     "data": {
      "text/plain": [
       "video_id               v=jQSIfiibjWc\n",
       "title                    MOM VS. DAD\n",
       "duration_seconds                 560\n",
       "total_views                  6146074\n",
       "num_chars                         11\n",
       "num_words                          3\n",
       "num_punctuation                    1\n",
       "num_words_uppercase                3\n",
       "num_words_lowercase                0\n",
       "avg_word_len                    3.67\n",
       "contain_digits                     0\n",
       "startswith_digits                  0\n",
       "Name: 1953, dtype: object"
      ]
     },
     "execution_count": 10,
     "metadata": {},
     "output_type": "execute_result"
    }
   ],
   "source": [
    "df.loc[df[\"num_chars\"].idxmin()]"
   ]
  },
  {
   "cell_type": "markdown",
   "id": "0fe1fa5d",
   "metadata": {},
   "source": [
    "Buat histogram plot dari total_views"
   ]
  },
  {
   "cell_type": "code",
   "execution_count": 41,
   "id": "7c8b9751",
   "metadata": {},
   "outputs": [
    {
     "data": {
      "text/plain": [
       "<seaborn.axisgrid.FacetGrid at 0x1cca2ad5670>"
      ]
     },
     "execution_count": 41,
     "metadata": {},
     "output_type": "execute_result"
    },
    {
     "data": {
      "image/png": "[encoded data removed]",
      "text/plain": [
       "<Figure size 1080x360 with 1 Axes>"
      ]
     },
     "metadata": {
      "needs_background": "light"
     },
     "output_type": "display_data"
    }
   ],
   "source": [
    "sns.displot(df_lt_25mil, x=\"total_views\", kind=\"hist\", aspect=3, bins=200)"
   ]
  },
  {
   "cell_type": "code",
   "execution_count": 20,
   "id": "5b345e2a",
   "metadata": {},
   "outputs": [
    {
     "data": {
      "text/plain": [
       "<seaborn.axisgrid.FacetGrid at 0x1cc9f39d9a0>"
      ]
     },
     "execution_count": 20,
     "metadata": {},
     "output_type": "execute_result"
    },
    {
     "data": {
      "image/png": "[encoded data removed]",
      "text/plain": [
       "<Figure size 1080x360 with 1 Axes>"
      ]
     },
     "metadata": {
      "needs_background": "light"
     },
     "output_type": "display_data"
    }
   ],
   "source": [
    "sns.displot(df_gt_25mil, x=\"total_views\", kind=\"hist\", aspect=3, bins=60)"
   ]
  },
  {
   "cell_type": "markdown",
   "id": "5f2b4e73",
   "metadata": {},
   "source": [
    "Buat histogram plot dari duration_seconds:"
   ]
  },
  {
   "cell_type": "code",
   "execution_count": 49,
   "id": "9fc8713e",
   "metadata": {},
   "outputs": [
    {
     "data": {
      "text/plain": [
       "<seaborn.axisgrid.FacetGrid at 0x27fc1f2fa60>"
      ]
     },
     "execution_count": 49,
     "metadata": {},
     "output_type": "execute_result"
    },
    {
     "data": {
      "image/png": "[encoded data removed]",
      "text/plain": [
       "<Figure size 1080x360 with 1 Axes>"
      ]
     },
     "metadata": {
      "needs_background": "light"
     },
     "output_type": "display_data"
    }
   ],
   "source": [
    "sns.displot(df_lt_25mil, x=\"duration_seconds\", kind=\"hist\", aspect=3, bins=250)"
   ]
  },
  {
   "cell_type": "code",
   "execution_count": 27,
   "id": "dfff50d4",
   "metadata": {},
   "outputs": [
    {
     "data": {
      "text/plain": [
       "<seaborn.axisgrid.FacetGrid at 0x1cca0b38b80>"
      ]
     },
     "execution_count": 27,
     "metadata": {},
     "output_type": "execute_result"
    },
    {
     "data": {
      "image/png": "[encoded data removed]",
      "text/plain": [
       "<Figure size 1080x360 with 1 Axes>"
      ]
     },
     "metadata": {
      "needs_background": "light"
     },
     "output_type": "display_data"
    }
   ],
   "source": [
    "sns.displot(df_gt_25mil, x=\"duration_seconds\", kind=\"hist\", aspect=3)"
   ]
  },
  {
   "cell_type": "markdown",
   "id": "1df3849f",
   "metadata": {},
   "source": [
    "Plot histogram dari num_words"
   ]
  },
  {
   "cell_type": "code",
   "execution_count": 29,
   "id": "4e3662e0",
   "metadata": {},
   "outputs": [
    {
     "data": {
      "text/plain": [
       "<seaborn.axisgrid.FacetGrid at 0x27fc1584280>"
      ]
     },
     "execution_count": 29,
     "metadata": {},
     "output_type": "execute_result"
    },
    {
     "data": {
      "image/png": "[encoded data removed]",
      "text/plain": [
       "<Figure size 360x360 with 1 Axes>"
      ]
     },
     "metadata": {
      "needs_background": "light"
     },
     "output_type": "display_data"
    }
   ],
   "source": [
    "sns.displot(df_lt_25mil, x=\"num_words\", kind=\"hist\", bins=15)"
   ]
  },
  {
   "cell_type": "code",
   "execution_count": 41,
   "id": "fdcfba77",
   "metadata": {},
   "outputs": [
    {
     "data": {
      "text/plain": [
       "<seaborn.axisgrid.FacetGrid at 0x1e073c5eb50>"
      ]
     },
     "execution_count": 41,
     "metadata": {},
     "output_type": "execute_result"
    },
    {
     "data": {
      "image/png": "[encoded data removed]",
      "text/plain": [
       "<Figure size 360x360 with 1 Axes>"
      ]
     },
     "metadata": {
      "needs_background": "light"
     },
     "output_type": "display_data"
    }
   ],
   "source": [
    "sns.displot(df_gt_25mil, x=\"num_words\", kind=\"hist\", aspect=3)"
   ]
  },
  {
   "cell_type": "markdown",
   "id": "fa69cc78",
   "metadata": {},
   "source": [
    "Plot histogram dari num_chars"
   ]
  },
  {
   "cell_type": "code",
   "execution_count": 49,
   "id": "eb60de1b",
   "metadata": {},
   "outputs": [
    {
     "data": {
      "text/plain": [
       "<seaborn.axisgrid.FacetGrid at 0x1e075d157c0>"
      ]
     },
     "execution_count": 49,
     "metadata": {},
     "output_type": "execute_result"
    },
    {
     "data": {
      "image/png": "[encoded data removed]",
      "text/plain": [
       "<Figure size 360x360 with 1 Axes>"
      ]
     },
     "metadata": {
      "needs_background": "light"
     },
     "output_type": "display_data"
    }
   ],
   "source": [
    "sns.displot(df_lt_25mil, x=\"num_chars\", kind=\"hist\", aspect=1)"
   ]
  },
  {
   "cell_type": "code",
   "execution_count": 50,
   "id": "7c722f99",
   "metadata": {},
   "outputs": [
    {
     "data": {
      "text/plain": [
       "<seaborn.axisgrid.FacetGrid at 0x1e076425910>"
      ]
     },
     "execution_count": 50,
     "metadata": {},
     "output_type": "execute_result"
    },
    {
     "data": {
      "image/png": "[encoded data removed]",
      "text/plain": [
       "<Figure size 360x360 with 1 Axes>"
      ]
     },
     "metadata": {
      "needs_background": "light"
     },
     "output_type": "display_data"
    }
   ],
   "source": [
    "sns.displot(df_gt_25mil, x=\"num_chars\", kind=\"hist\", aspect=1)"
   ]
  },
  {
   "cell_type": "markdown",
   "id": "da219b9f",
   "metadata": {},
   "source": [
    "Lalu data diurutkan berdasarkan frekuensinya:"
   ]
  },
  {
   "cell_type": "code",
   "execution_count": 50,
   "id": "7289959e",
   "metadata": {},
   "outputs": [
    {
     "data": {
      "text/plain": [
       "430000.00      37\n",
       "370000.00      34\n",
       "420000.00      34\n",
       "500000.00      33\n",
       "380000.00      33\n",
       "               ..\n",
       "7890000.00      1\n",
       "9560000.00      1\n",
       "69880000.00     1\n",
       "8310000.00      1\n",
       "5050000.00      1\n",
       "Name: total_views, Length: 1278, dtype: int64"
      ]
     },
     "execution_count": 50,
     "metadata": {},
     "output_type": "execute_result"
    }
   ],
   "source": [
    "(np.floor((df[\"total_views\"] / 10000)) * 10000).value_counts()"
   ]
  },
  {
   "cell_type": "code",
   "execution_count": 47,
   "id": "847a0982",
   "metadata": {},
   "outputs": [
    {
     "data": {
      "text/plain": [
       "<AxesSubplot:>"
      ]
     },
     "execution_count": 47,
     "metadata": {},
     "output_type": "execute_result"
    },
    {
     "data": {
      "image/png": "[encoded data removed]",
      "text/plain": [
       "<Figure size 432x288 with 1 Axes>"
      ]
     },
     "metadata": {
      "needs_background": "light"
     },
     "output_type": "display_data"
    }
   ],
   "source": [
    "(np.floor((df[\"total_views\"] / 10000)) * 10000).value_counts().plot()"
   ]
  },
  {
   "cell_type": "code",
   "execution_count": 51,
   "id": "a658fb36",
   "metadata": {},
   "outputs": [
    {
     "data": {
      "text/plain": [
       "430000.00      37\n",
       "370000.00      34\n",
       "420000.00      34\n",
       "500000.00      33\n",
       "380000.00      33\n",
       "               ..\n",
       "7890000.00      1\n",
       "9560000.00      1\n",
       "69880000.00     1\n",
       "8310000.00      1\n",
       "5050000.00      1\n",
       "Name: total_views, Length: 1278, dtype: int64"
      ]
     },
     "execution_count": 51,
     "metadata": {},
     "output_type": "execute_result"
    }
   ],
   "source": [
    "(np.floor((df[\"total_views\"] / 10000)) * 10000).value_counts()"
   ]
  },
  {
   "cell_type": "code",
   "execution_count": 61,
   "id": "b87bf154",
   "metadata": {},
   "outputs": [
    {
     "data": {
      "text/plain": [
       "<AxesSubplot:>"
      ]
     },
     "execution_count": 61,
     "metadata": {},
     "output_type": "execute_result"
    },
    {
     "data": {
      "image/png": "[encoded data removed]",
      "text/plain": [
       "<Figure size 432x288 with 1 Axes>"
      ]
     },
     "metadata": {
      "needs_background": "light"
     },
     "output_type": "display_data"
    }
   ],
   "source": [
    "(np.floor((df[\"duration_seconds\"] / 10)) * 10).value_counts().plot()"
   ]
  },
  {
   "cell_type": "markdown",
   "id": "97bb7b43",
   "metadata": {},
   "source": [
    "Buat pie chart untuk menunjukkan berapa persen video yang memiliki angka dalam judulnya"
   ]
  },
  {
   "cell_type": "code",
   "execution_count": 122,
   "id": "20e23c43",
   "metadata": {},
   "outputs": [
    {
     "data": {
      "text/plain": [
       "<AxesSubplot:ylabel='title'>"
      ]
     },
     "execution_count": 122,
     "metadata": {},
     "output_type": "execute_result"
    },
    {
     "data": {
      "image/png": "[encoded data removed]",
      "text/plain": [
       "<Figure size 432x288 with 1 Axes>"
      ]
     },
     "metadata": {},
     "output_type": "display_data"
    }
   ],
   "source": [
    "df_gt_25mil.groupby(\"contain_digits\").count().plot.pie(y=\"title\", autopct='%1.1f%%')"
   ]
  },
  {
   "cell_type": "code",
   "execution_count": 123,
   "id": "5cbbabeb",
   "metadata": {},
   "outputs": [
    {
     "data": {
      "text/plain": [
       "<AxesSubplot:ylabel='title'>"
      ]
     },
     "execution_count": 123,
     "metadata": {},
     "output_type": "execute_result"
    },
    {
     "data": {
      "image/png": "[encoded data removed]",
      "text/plain": [
       "<Figure size 432x288 with 1 Axes>"
      ]
     },
     "metadata": {},
     "output_type": "display_data"
    }
   ],
   "source": [
    "df_lt_25mil.groupby(\"contain_digits\").count().plot.pie(y=\"title\", autopct='%1.1f%%')"
   ]
  },
  {
   "cell_type": "markdown",
   "id": "a02dfb2b",
   "metadata": {},
   "source": [
    "Buat pie chart untuk menunjukkan berapa persen video yang diawali angka di judulnya"
   ]
  },
  {
   "cell_type": "code",
   "execution_count": 120,
   "id": "bf631061",
   "metadata": {},
   "outputs": [
    {
     "data": {
      "text/plain": [
       "<AxesSubplot:ylabel='title'>"
      ]
     },
     "execution_count": 120,
     "metadata": {},
     "output_type": "execute_result"
    },
    {
     "data": {
      "image/png": "[encoded data removed]",
      "text/plain": [
       "<Figure size 432x288 with 1 Axes>"
      ]
     },
     "metadata": {},
     "output_type": "display_data"
    }
   ],
   "source": [
    "df_lt_25mil.groupby(\"startswith_digits\").count().plot.pie(y=\"title\", autopct='%1.1f%%')"
   ]
  },
  {
   "cell_type": "code",
   "execution_count": 121,
   "id": "8e5bfc75",
   "metadata": {},
   "outputs": [
    {
     "data": {
      "text/plain": [
       "<AxesSubplot:ylabel='title'>"
      ]
     },
     "execution_count": 121,
     "metadata": {},
     "output_type": "execute_result"
    },
    {
     "data": {
      "image/png": "[encoded data removed]",
      "text/plain": [
       "<Figure size 432x288 with 1 Axes>"
      ]
     },
     "metadata": {},
     "output_type": "display_data"
    }
   ],
   "source": [
    "df_gt_25mil.groupby(\"startswith_digits\").count().plot.pie(y=\"title\", autopct='%1.1f%%')"
   ]
  },
  {
   "cell_type": "markdown",
   "id": "8ab7cfbc",
   "metadata": {},
   "source": [
    "Buat boxplot untuk durasi video:"
   ]
  },
  {
   "cell_type": "code",
   "execution_count": 125,
   "id": "b73cf176",
   "metadata": {},
   "outputs": [
    {
     "data": {
      "text/plain": [
       "<AxesSubplot:xlabel='duration_seconds'>"
      ]
     },
     "execution_count": 125,
     "metadata": {},
     "output_type": "execute_result"
    },
    {
     "data": {
      "image/png": "[encoded data removed]",
      "text/plain": [
       "<Figure size 432x288 with 1 Axes>"
      ]
     },
     "metadata": {
      "needs_background": "light"
     },
     "output_type": "display_data"
    }
   ],
   "source": [
    "sns.boxplot(x=df_lt_25mil[\"duration_seconds\"], showfliers=False)"
   ]
  },
  {
   "cell_type": "code",
   "execution_count": 127,
   "id": "54feaa06",
   "metadata": {},
   "outputs": [
    {
     "data": {
      "text/plain": [
       "<AxesSubplot:xlabel='duration_seconds'>"
      ]
     },
     "execution_count": 127,
     "metadata": {},
     "output_type": "execute_result"
    },
    {
     "data": {
      "image/png": "[encoded data removed]",
      "text/plain": [
       "<Figure size 432x288 with 1 Axes>"
      ]
     },
     "metadata": {
      "needs_background": "light"
     },
     "output_type": "display_data"
    }
   ],
   "source": [
    "sns.violinplot(x=df_lt_25mil[\"duration_seconds\"])"
   ]
  },
  {
   "cell_type": "code",
   "execution_count": 17,
   "id": "552883e3",
   "metadata": {},
   "outputs": [
    {
     "data": {
      "text/plain": [
       "<AxesSubplot:xlabel='duration_seconds'>"
      ]
     },
     "execution_count": 17,
     "metadata": {},
     "output_type": "execute_result"
    },
    {
     "data": {
      "image/png": "[encoded data removed]",
      "text/plain": [
       "<Figure size 432x288 with 1 Axes>"
      ]
     },
     "metadata": {
      "needs_background": "light"
     },
     "output_type": "display_data"
    }
   ],
   "source": [
    "sns.boxplot(x=df_lt_25mil[\"duration_seconds\"], showfliers=True)"
   ]
  },
  {
   "cell_type": "code",
   "execution_count": 14,
   "id": "073ea7c8",
   "metadata": {},
   "outputs": [
    {
     "data": {
      "text/plain": [
       "<AxesSubplot:xlabel='duration_seconds'>"
      ]
     },
     "execution_count": 14,
     "metadata": {},
     "output_type": "execute_result"
    },
    {
     "data": {
      "image/png": "[encoded data removed]",
      "text/plain": [
       "<Figure size 432x288 with 1 Axes>"
      ]
     },
     "metadata": {
      "needs_background": "light"
     },
     "output_type": "display_data"
    }
   ],
   "source": [
    "sns.boxplot(x=df_gt_25mil[\"duration_seconds\"], showfliers=False)"
   ]
  },
  {
   "cell_type": "code",
   "execution_count": 18,
   "id": "edf7d007",
   "metadata": {},
   "outputs": [
    {
     "data": {
      "text/plain": [
       "<AxesSubplot:xlabel='duration_seconds'>"
      ]
     },
     "execution_count": 18,
     "metadata": {},
     "output_type": "execute_result"
    },
    {
     "data": {
      "image/png": "[encoded data removed]",
      "text/plain": [
       "<Figure size 432x288 with 1 Axes>"
      ]
     },
     "metadata": {
      "needs_background": "light"
     },
     "output_type": "display_data"
    }
   ],
   "source": [
    "sns.boxplot(x=df_gt_25mil[\"duration_seconds\"], showfliers=True)"
   ]
  },
  {
   "cell_type": "markdown",
   "id": "cbbce681",
   "metadata": {},
   "source": [
    "Video dengan penonton paling banyak (sekitar 280,000,000 penonton) memiliki durasi dan panjang title yang umum digunakan oleh 5-Minute Crafts.\n",
    "Meskipun nama channelnya adalah 5-Minute Crafts, durasi video yang mereka upload umumnya lebih panjang dari 5 menit.\n",
    "Hanya sedikit video yang memiliki judul yang lebih panjang dari 12 kata dan memiliki jumlah penonton lebih dari 10 juta orang.\n",
    "Kami menduga ada hubungan antara panjang judul dan jumlah penonton. Makin panjang suatu judul video, semakin dikit yang menonton."
   ]
  },
  {
   "cell_type": "code",
   "execution_count": null,
   "id": "49783b3e",
   "metadata": {},
   "outputs": [],
   "source": []
  }
 ],
 "metadata": {
  "kernelspec": {
   "display_name": "Python 3",
   "language": "python",
   "name": "python3"
  },
  "language_info": {
   "codemirror_mode": {
    "name": "ipython",
    "version": 3
   },
   "file_extension": ".py",
   "mimetype": "text/x-python",
   "name": "python",
   "nbconvert_exporter": "python",
   "pygments_lexer": "ipython3",
   "version": "3.8.8"
  }
 },
 "nbformat": 4,
 "nbformat_minor": 5
}
